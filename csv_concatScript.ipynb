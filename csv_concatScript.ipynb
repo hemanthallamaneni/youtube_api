{
 "cells": [
  {
   "cell_type": "code",
   "execution_count": 4,
   "id": "8e4d456e-e025-43a8-aa69-04cba8fee354",
   "metadata": {},
   "outputs": [],
   "source": [
    "import pandas as pd\n",
    "\n",
    "# List of file names\n",
    "files = ['jaleoncommentsdata.csv', 'meghanatopcomments.csv', 'Shivani_comments_3_channels_data_top10_channels.csv']\n",
    "\n",
    "# Create an empty DataFrame to hold the combined data\n",
    "combined_data = pd.DataFrame()\n",
    "\n",
    "# Loop through each file and append its data to the combined DataFrame\n",
    "for file in files:\n",
    "    df = pd.read_csv(file)\n",
    "    combined_data = pd.concat([combined_data, df], ignore_index=True)\n",
    "\n",
    "# Write the combined data to a new CSV file\n",
    "combined_data.to_csv('combined_comment.csv', index=False)"
   ]
  },
  {
   "cell_type": "code",
   "execution_count": null,
   "id": "03cc7772-9d93-4683-87e3-5ca6cefc585b",
   "metadata": {},
   "outputs": [],
   "source": []
  }
 ],
 "metadata": {
  "kernelspec": {
   "display_name": "Python 3 (ipykernel)",
   "language": "python",
   "name": "python3"
  },
  "language_info": {
   "codemirror_mode": {
    "name": "ipython",
    "version": 3
   },
   "file_extension": ".py",
   "mimetype": "text/x-python",
   "name": "python",
   "nbconvert_exporter": "python",
   "pygments_lexer": "ipython3",
   "version": "3.11.5"
  }
 },
 "nbformat": 4,
 "nbformat_minor": 5
}
